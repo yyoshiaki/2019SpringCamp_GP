{
  "nbformat": 4,
  "nbformat_minor": 0,
  "metadata": {
    "colab": {
      "name": "Linear regression.ipynb",
      "version": "0.3.2",
      "provenance": [],
      "include_colab_link": true
    },
    "kernelspec": {
      "name": "python3",
      "display_name": "Python 3"
    }
  },
  "cells": [
    {
      "cell_type": "markdown",
      "metadata": {
        "id": "view-in-github",
        "colab_type": "text"
      },
      "source": [
        "<a href=\"https://colab.research.google.com/github/yyoshiaki/2019SpringCamp_GP/blob/master/Linear_regression.ipynb\" target=\"_parent\"><img src=\"https://colab.research.google.com/assets/colab-badge.svg\" alt=\"Open In Colab\"/></a>"
      ]
    },
    {
      "metadata": {
        "id": "yfP_8iQBeHgS",
        "colab_type": "text"
      },
      "cell_type": "markdown",
      "source": [
        "様々な初期化"
      ]
    },
    {
      "metadata": {
        "id": "1hfXi9MRd0Gn",
        "colab_type": "code",
        "colab": {}
      },
      "cell_type": "code",
      "source": [
        "import numpy as np\n",
        "import matplotlib.pyplot as plt\n",
        "from pylab import *\n",
        "np.set_printoptions (precision=4,suppress=True)"
      ],
      "execution_count": 0,
      "outputs": []
    },
    {
      "metadata": {
        "id": "tO_jBeB518KF",
        "colab_type": "text"
      },
      "cell_type": "markdown",
      "source": [
        "データファイルの準備"
      ]
    },
    {
      "metadata": {
        "id": "oQbolBG1zRoK",
        "colab_type": "code",
        "outputId": "2981f921-0766-47fa-b62b-3023f940157b",
        "colab": {
          "base_uri": "https://localhost:8080/",
          "height": 374
        }
      },
      "cell_type": "code",
      "source": [
        "! wget http://chasen.org/~daiti-m/gpbook/data/gpr-data.zip\n",
        "! unzip -j -o gpr-data.zip"
      ],
      "execution_count": 0,
      "outputs": [
        {
          "output_type": "stream",
          "text": [
            "--2019-03-10 23:03:46--  http://chasen.org/~daiti-m/gpbook/data/gpr-data.zip\n",
            "Resolving chasen.org (chasen.org)... 160.16.121.64\n",
            "Connecting to chasen.org (chasen.org)|160.16.121.64|:80... connected.\n",
            "HTTP request sent, awaiting response... 200 OK\n",
            "Length: 304811 (298K) [application/zip]\n",
            "Saving to: ‘gpr-data.zip.2’\n",
            "\n",
            "gpr-data.zip.2      100%[===================>] 297.67K   478KB/s    in 0.6s    \n",
            "\n",
            "2019-03-10 23:03:47 (478 KB/s) - ‘gpr-data.zip.2’ saved [304811/304811]\n",
            "\n",
            "Archive:  gpr-data.zip\n",
            "  inflating: crimes.data.txt         \n",
            "  inflating: crimes.names.txt        \n",
            "  inflating: forest-fires.csv        \n",
            "  inflating: forest-fires.names      \n",
            "  inflating: forest.dat              \n",
            "  inflating: gpr.dat                 \n",
            "  inflating: mauna-loa.dat           \n",
            " extracting: simple1.dat             \n",
            "  inflating: simple2.dat             \n"
          ],
          "name": "stdout"
        }
      ]
    },
    {
      "metadata": {
        "id": "x5LAGFrCeRUC",
        "colab_type": "code",
        "colab": {}
      },
      "cell_type": "code",
      "source": [
        "ydef lm (X):\n",
        "  N = len(X)\n",
        "  y = X[:,0]\n",
        "  X = np.vstack([np.ones(N),X[:,1]]).T\n",
        "  w = inv(X.T.dot(X)).dot(X.T).dot(y)\n",
        "  return w"
      ],
      "execution_count": 0,
      "outputs": []
    },
    {
      "metadata": {
        "id": "q_e20RHteZeg",
        "colab_type": "code",
        "colab": {}
      },
      "cell_type": "code",
      "source": [
        "def lm_plot (X):\n",
        "  xmin,xmax = -5,5\n",
        "  ymin,ymax = -5,5\n",
        "  simple_plot (X)\n",
        "  w = lm (X)\n",
        "  M = 20\n",
        "  xx = linspace(xmin,xmax,M)\n",
        "  yy =[w[0]+w[1]*x for x in xx]\n",
        "  plt.plot (xx,yy)\n",
        "  gca().set_aspect(1)\n",
        "  print (w)"
      ],
      "execution_count": 0,
      "outputs": []
    },
    {
      "metadata": {
        "id": "cSi10YJyekOd",
        "colab_type": "code",
        "colab": {}
      },
      "cell_type": "code",
      "source": [
        "def simple_plot (X):\n",
        "  xmin,xmax = -5,5\n",
        "  ymin,ymax = -5,5\n",
        "  plt.scatter(X[:,1],X[:,0],marker='x',s=80)\n",
        "  plt.plot([xmin,xmax],[0,0],'k',linewidth=1)\n",
        "  plt.plot([0,0],[ymin,ymax],'k',linewidth=1)\n",
        "  plt.axis([xmin,xmax,ymin,ymax])"
      ],
      "execution_count": 0,
      "outputs": []
    },
    {
      "metadata": {
        "id": "n_Sas6g-eed0",
        "colab_type": "code",
        "outputId": "b7435442-5211-464b-d7de-a7b7a3991a13",
        "colab": {
          "base_uri": "https://localhost:8080/",
          "height": 68
        }
      },
      "cell_type": "code",
      "source": [
        "X = np.loadtxt('simple1.dat')\n",
        "print (X)"
      ],
      "execution_count": 0,
      "outputs": [
        {
          "output_type": "stream",
          "text": [
            "[[ 2.  3.]\n",
            " [ 4.  2.]\n",
            " [ 1. -1.]]\n"
          ],
          "name": "stdout"
        }
      ]
    },
    {
      "metadata": {
        "id": "2Fd8TAM1gSjV",
        "colab_type": "code",
        "outputId": "c88650c3-96e5-4422-c604-915ae614aa2b",
        "colab": {
          "base_uri": "https://localhost:8080/",
          "height": 364
        }
      },
      "cell_type": "code",
      "source": [
        "lm_plot (X)"
      ],
      "execution_count": 0,
      "outputs": [
        {
          "output_type": "stream",
          "text": [
            "[1.7692 0.4231]\n"
          ],
          "name": "stdout"
        },
        {
          "output_type": "display_data",
          "data": {
            "image/png": "[encoded data removed]",
            "text/plain": [
              "<Figure size 576x396 with 1 Axes>"
            ]
          },
          "metadata": {
            "tags": []
          }
        }
      ]
    },
    {
      "metadata": {
        "id": "72OjZiJsiD4s",
        "colab_type": "code",
        "outputId": "342eeede-3610-4e66-cf12-003d4f3df17f",
        "colab": {
          "base_uri": "https://localhost:8080/",
          "height": 364
        }
      },
      "cell_type": "code",
      "source": [
        "X2 = np.loadtxt('simple2.dat')\n",
        "lm_plot (X2)"
      ],
      "execution_count": 0,
      "outputs": [
        {
          "output_type": "stream",
          "text": [
            "[1.3721 0.5698]\n"
          ],
          "name": "stdout"
        },
        {
          "output_type": "display_data",
          "data": {
            "image/png": "[encoded data removed]",
            "text/plain": [
              "<Figure size 576x396 with 1 Axes>"
            ]
          },
          "metadata": {
            "tags": []
          }
        }
      ]
    },
    {
      "metadata": {
        "id": "aeRKDGeEk3ox",
        "colab_type": "text"
      },
      "cell_type": "markdown",
      "source": [
        "予測してみる"
      ]
    },
    {
      "metadata": {
        "id": "6SYQAVF2k-cV",
        "colab_type": "code",
        "colab": {}
      },
      "cell_type": "code",
      "source": [
        "def lm_predict (x,w):\n",
        "  yhat = w[0]+w[1]*x\n",
        "  return yhat\n",
        "def lm_error (x,y,w):\n",
        "  yhat = lm_predict (x,w)\n",
        "  return (y - yhat)**2\n",
        "def lm_errors (X,w):\n",
        "  return [lm_error(x[0],x[1],w) for x in X]\n",
        "def lm_mse (X,w):\n",
        "  errors = lm_errors(X,w)\n",
        "  print (mean(errors))\n"
      ],
      "execution_count": 0,
      "outputs": []
    },
    {
      "metadata": {
        "id": "SYU3ouJHlfTJ",
        "colab_type": "code",
        "outputId": "96f1bed2-c18b-4f22-ed6d-4ae795f2389b",
        "colab": {
          "base_uri": "https://localhost:8080/",
          "height": 34
        }
      },
      "cell_type": "code",
      "source": [
        "w = lm (X)\n",
        "print (w)"
      ],
      "execution_count": 0,
      "outputs": [
        {
          "output_type": "stream",
          "text": [
            "[1.7692 0.4231]\n"
          ],
          "name": "stdout"
        }
      ]
    },
    {
      "metadata": {
        "id": "5OX66tECluPs",
        "colab_type": "code",
        "outputId": "031394d1-0f4b-420a-e813-0ba0ef73bb23",
        "colab": {
          "base_uri": "https://localhost:8080/",
          "height": 34
        }
      },
      "cell_type": "code",
      "source": [
        "lm_error (2,2,w)"
      ],
      "execution_count": 0,
      "outputs": [
        {
          "output_type": "execute_result",
          "data": {
            "text/plain": [
              "0.3786982248520716"
            ]
          },
          "metadata": {
            "tags": []
          },
          "execution_count": 20
        }
      ]
    },
    {
      "metadata": {
        "id": "boXcp3KSmPLK",
        "colab_type": "code",
        "outputId": "d355a728-92f8-477a-d756-e8e4ddb4f10d",
        "colab": {
          "base_uri": "https://localhost:8080/",
          "height": 34
        }
      },
      "cell_type": "code",
      "source": [
        "lm_errors (X2,w)"
      ],
      "execution_count": 0,
      "outputs": [
        {
          "output_type": "execute_result",
          "data": {
            "text/plain": [
              "array([ 0.1479,  2.1361, 10.1908, 14.2071,  4.8062])"
            ]
          },
          "metadata": {
            "tags": []
          },
          "execution_count": 21
        }
      ]
    },
    {
      "metadata": {
        "id": "2R97eYmnxabm",
        "colab_type": "code",
        "outputId": "a1445fda-eef9-48b6-e68d-5f18e386856f",
        "colab": {
          "base_uri": "https://localhost:8080/",
          "height": 34
        }
      },
      "cell_type": "code",
      "source": [
        "lm_mse (X2,w)"
      ],
      "execution_count": 0,
      "outputs": [
        {
          "output_type": "stream",
          "text": [
            "6.297633136094676\n"
          ],
          "name": "stdout"
        }
      ]
    },
    {
      "metadata": {
        "id": "7NvZvfx6xtSZ",
        "colab_type": "code",
        "outputId": "0db0e3cb-66d1-4954-881d-233ca840ee8e",
        "colab": {
          "base_uri": "https://localhost:8080/",
          "height": 136
        }
      },
      "cell_type": "code",
      "source": [
        "hawaii = np.loadtxt('mauna-loa.dat')\n",
        "print (hawaii)"
      ],
      "execution_count": 0,
      "outputs": [
        {
          "output_type": "stream",
          "text": [
            "[[1958.2027  315.7   ]\n",
            " [1958.2877  317.45  ]\n",
            " [1958.3699  317.51  ]\n",
            " ...\n",
            " [2018.9562  409.23  ]\n",
            " [2019.0411  410.92  ]\n",
            " [2019.126   411.66  ]]\n"
          ],
          "name": "stdout"
        }
      ]
    },
    {
      "metadata": {
        "id": "OAalVVHcykOx",
        "colab_type": "code",
        "outputId": "140bc152-a43b-4983-865a-f7eb6a81f345",
        "colab": {
          "base_uri": "https://localhost:8080/",
          "height": 34
        }
      },
      "cell_type": "code",
      "source": [
        "mean(hawaii[:,0])"
      ],
      "execution_count": 0,
      "outputs": [
        {
          "output_type": "execute_result",
          "data": {
            "text/plain": [
              "1988.8477264099038"
            ]
          },
          "metadata": {
            "tags": []
          },
          "execution_count": 36
        }
      ]
    },
    {
      "metadata": {
        "id": "N9rS7-0ayn1K",
        "colab_type": "code",
        "colab": {}
      },
      "cell_type": "code",
      "source": [
        "X3=np.vstack((hawaii[:,1]-mean(hawaii[:,1]),hawaii[:,0]-mean(hawaii[:,0])))"
      ],
      "execution_count": 0,
      "outputs": []
    },
    {
      "metadata": {
        "id": "rsIwrVJNzC4q",
        "colab_type": "code",
        "outputId": "c5eb3b6b-f31d-4c0a-fe38-d7c3acccf467",
        "colab": {
          "base_uri": "https://localhost:8080/",
          "height": 51
        }
      },
      "cell_type": "code",
      "source": [
        "print(X3)"
      ],
      "execution_count": 0,
      "outputs": [
        {
          "output_type": "stream",
          "text": [
            "[[-38.5117 -36.7617 -36.7017 ...  55.0183  56.7083  57.4483]\n",
            " [-30.645  -30.56   -30.4778 ...  30.1085  30.1934  30.2783]]\n"
          ],
          "name": "stdout"
        }
      ]
    },
    {
      "metadata": {
        "id": "6M1pLhCAzEDY",
        "colab_type": "code",
        "outputId": "34f76527-8411-479f-f719-0d1b54eaa958",
        "colab": {
          "base_uri": "https://localhost:8080/",
          "height": 364
        }
      },
      "cell_type": "code",
      "source": [
        "plt.plot(X3[1],X3[0])"
      ],
      "execution_count": 0,
      "outputs": [
        {
          "output_type": "execute_result",
          "data": {
            "text/plain": [
              "[<matplotlib.lines.Line2D at 0x7fe86c94f438>]"
            ]
          },
          "metadata": {
            "tags": []
          },
          "execution_count": 46
        },
        {
          "output_type": "display_data",
          "data": {
            "image/png": "[encoded data removed]",
            "text/plain": [
              "<Figure size 576x396 with 1 Axes>"
            ]
          },
          "metadata": {
            "tags": []
          }
        }
      ]
    },
    {
      "metadata": {
        "id": "IuXzpXKrzKSH",
        "colab_type": "code",
        "outputId": "22335c3f-54d0-4d51-fb5c-89fdbe8ebc09",
        "colab": {
          "base_uri": "https://localhost:8080/",
          "height": 385
        }
      },
      "cell_type": "code",
      "source": [
        "lm_plot(X3)\n",
        "axis([-40,40,-40,40])"
      ],
      "execution_count": 0,
      "outputs": [
        {
          "output_type": "stream",
          "text": [
            "[8.1197 1.2685]\n"
          ],
          "name": "stdout"
        },
        {
          "output_type": "execute_result",
          "data": {
            "text/plain": [
              "[-40, 40, -40, 40]"
            ]
          },
          "metadata": {
            "tags": []
          },
          "execution_count": 47
        },
        {
          "output_type": "display_data",
          "data": {
            "image/png": "[encoded data removed]",
            "text/plain": [
              "<Figure size 576x396 with 1 Axes>"
            ]
          },
          "metadata": {
            "tags": []
          }
        }
      ]
    },
    {
      "metadata": {
        "id": "RBfzGASa0Na2",
        "colab_type": "code",
        "outputId": "bde86da8-2d11-4edc-d5eb-5c07ed968e4e",
        "colab": {
          "base_uri": "https://localhost:8080/",
          "height": 187
        }
      },
      "cell_type": "code",
      "source": [
        "! cat gpr.dat"
      ],
      "execution_count": 0,
      "outputs": [
        {
          "output_type": "stream",
          "text": [
            "-0.5\t0.7\n",
            "0.5\t1.8\n",
            "1\t1.7\n",
            "1.4\t2.3\n",
            "3\t1\n",
            "2.3\t0\n",
            "2.5\t0.2\n",
            "1.5\t2\n",
            "1.1\t2.4\n",
            "0.7\t1.5\n"
          ],
          "name": "stdout"
        }
      ]
    },
    {
      "metadata": {
        "id": "KEWgwuga0Sax",
        "colab_type": "code",
        "outputId": "94ae433e-226d-44e2-eb52-104e93e5d581",
        "colab": {
          "base_uri": "https://localhost:8080/",
          "height": 68
        }
      },
      "cell_type": "code",
      "source": [
        "! cat simple1.dat"
      ],
      "execution_count": 0,
      "outputs": [
        {
          "output_type": "stream",
          "text": [
            "2\t3\n",
            "4\t2\n",
            "1\t-1\n"
          ],
          "name": "stdout"
        }
      ]
    },
    {
      "metadata": {
        "id": "CfxkziXb0a7j",
        "colab_type": "code",
        "colab": {}
      },
      "cell_type": "code",
      "source": [
        ""
      ],
      "execution_count": 0,
      "outputs": []
    }
  ]
}